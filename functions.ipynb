{
 "cells": [
  {
   "cell_type": "code",
   "execution_count": 15,
   "id": "47ef090e",
   "metadata": {},
   "outputs": [
    {
     "name": "stdout",
     "output_type": "stream",
     "text": [
      "Fer's folder found: C:\\Users\\martineg\\Nextcloud\\DATA\\SuperESCA\n"
     ]
    }
   ],
   "source": [
    "import sys\n",
    "import os\n",
    "import numpy as np\n",
    "import matplotlib as plt\n",
    "\n",
    "# Look for Hirad's or Fer's folder\n",
    "try:\n",
    "    # First folder to check\n",
    "    base_folder = r\"\"\n",
    "    if os.path.isdir(base_folder):\n",
    "        print(f\"Hirad's folder found: {base_folder}\")\n",
    "    else:\n",
    "        # Second folder to check\n",
    "        base_folder = r\"C:\\Users\\martineg\\Nextcloud\\DATA\\SuperESCA\"\n",
    "        if os.path.isdir(base_folder):\n",
    "            print(f\"Fer's folder found: {base_folder}\")\n",
    "        else:\n",
    "            raise FileNotFoundError(\"Folders not found, aborting...\")\n",
    "except FileNotFoundError as e:\n",
    "    print(e)\n"
   ]
  },
  {
   "cell_type": "code",
   "execution_count": 22,
   "id": "a8e5f37e",
   "metadata": {},
   "outputs": [],
   "source": [
    "class Spectra():\n",
    "    \"\"\"\n",
    "    Spectra class. Returns the X and Y of the spectra as separate arrays.\n",
    "    Allows for Fermi correction, normalization\n",
    "    Extract and stores the properties of the spectra, such as P, T, pass energy...\n",
    "    \"\"\"\n",
    "    \n",
    "    def __init__(self, date: str, name: str):\n",
    "        X, Y = load_XPS(date, name)\n",
    "        # add one function to correct for Fermi\n",
    "        # Add one function to normalize binding energy\n",
    "        # Add stuff to extract he pass energy, photon energy, Temperature and pressure from the files\n",
    "                \n",
    "    def load_XPS(date, name):\n",
    "        \"\"\"\n",
    "        Load XPS data from a file and return spectra as a numpy array.\n",
    "        \"\"\"\n",
    "        file_path = f'{base_folder}/{date}/{name}.itx'\n",
    "        intensity_data = []\n",
    "        scale = \"\"\n",
    "\n",
    "        try:\n",
    "            with open(file_path, 'r') as file:\n",
    "                lines = file.readlines()\n",
    "\n",
    "            in_data_section = False\n",
    "\n",
    "            for line in lines:\n",
    "                line = line.strip()\n",
    "\n",
    "                if line == \"BEGIN\":\n",
    "                    in_data_section = True\n",
    "                    continue\n",
    "                elif line == \"END\":\n",
    "                    in_data_section = False\n",
    "                    continue\n",
    "                elif \"SetScale\" in line:\n",
    "                    scale = line\n",
    "                    continue\n",
    "\n",
    "                if in_data_section:\n",
    "                    try:\n",
    "                        intensity_data.append(float(line))\n",
    "                    except ValueError:\n",
    "                        pass\n",
    "\n",
    "            if not scale:\n",
    "                print(\"No scale information found in the file.\")\n",
    "                return None\n",
    "\n",
    "            intensity_data_np = np.array(intensity_data)\n",
    "            startBE, endBE = map(float, scale[15:].split(\",\")[:2])  # Extract end and start BE, maintaining high to low order\n",
    "            Xs = np.linspace(startBE, endBE, len(intensity_data_np))  # Maintain high to low BE order as typical in XPS\n",
    "\n",
    "            return np.column_stack((Xs, intensity_data_np))\n",
    "\n",
    "        except FileNotFoundError:\n",
    "            print(f\"File not found: {file_path}\")\n",
    "            return None\n",
    "    \n",
    "    "
   ]
  },
  {
   "cell_type": "code",
   "execution_count": 24,
   "id": "3d3fb28e",
   "metadata": {},
   "outputs": [
    {
     "name": "stdout",
     "output_type": "stream",
     "text": [
      "load_XPS(date, name)\n"
     ]
    }
   ],
   "source": [
    "jamon = Spectra(\"3\", \"4\")"
   ]
  }
 ],
 "metadata": {
  "kernelspec": {
   "display_name": "Python 3 (ipykernel)",
   "language": "python",
   "name": "python3"
  },
  "language_info": {
   "codemirror_mode": {
    "name": "ipython",
    "version": 3
   },
   "file_extension": ".py",
   "mimetype": "text/x-python",
   "name": "python",
   "nbconvert_exporter": "python",
   "pygments_lexer": "ipython3",
   "version": "3.9.13"
  }
 },
 "nbformat": 4,
 "nbformat_minor": 5
}
